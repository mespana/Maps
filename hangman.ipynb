{
  "nbformat": 4,
  "nbformat_minor": 0,
  "metadata": {
    "colab": {
      "provenance": [],
      "authorship_tag": "ABX9TyMNifT11nrYVJblqv0YO9DS",
      "include_colab_link": true
    },
    "kernelspec": {
      "name": "python3",
      "display_name": "Python 3"
    },
    "language_info": {
      "name": "python"
    }
  },
  "cells": [
    {
      "cell_type": "markdown",
      "metadata": {
        "id": "view-in-github",
        "colab_type": "text"
      },
      "source": [
        "<a href=\"https://colab.research.google.com/github/mespana/Maps/blob/master/hangman.ipynb\" target=\"_parent\"><img src=\"https://colab.research.google.com/assets/colab-badge.svg\" alt=\"Open In Colab\"/></a>"
      ]
    },
    {
      "cell_type": "code",
      "execution_count": null,
      "metadata": {
        "id": "EdUG1Dc4PCWg"
      },
      "outputs": [],
      "source": [
        "# REQUIREMENTS\n",
        "# Liste von Buchstaben\n",
        "# Anzahl an Buchstaben\n",
        "# Datei mit möglichen Wörtern\n",
        "import random\n",
        "\n",
        "def get_wordlist_from_file():\n",
        "    with open(\"words.txt\",\"rt\", encoding=\"utf-8\") as file:\n",
        "        #word_list = file.readlines()\n",
        "        return file.readlines()\n",
        "\n",
        "\n",
        "def choose_wordw(words: list[str]) ->str:\n",
        "    \"\"\"Choose a random word from the words list\n",
        "    :default (if list is empty), \"Python\" is returned\n",
        "    :param words: list of words\n",
        "    :return: random word from list of words\n",
        "\n",
        "    \"\"\"\n",
        "    if len(words) == 0:\n",
        "        return \"Python\"\n",
        "\n",
        "    word = random.choice(words) # Built-in Bib muss nicht getestet werden,\n",
        "    return word.strip()         # sondern, daß unsere eingegebene Paramenter\n",
        "                                # auch raus kommt\n",
        "\n",
        "\n",
        "\n",
        "if __name__ == \"__main__\":\n",
        "\n",
        "\n"
      ]
    },
    {
      "cell_type": "markdown",
      "source": [],
      "metadata": {
        "id": "WJ8KEjI2YH--"
      }
    },
    {
      "cell_type": "code",
      "source": [],
      "metadata": {
        "id": "MJGhtU--YIsf"
      },
      "execution_count": null,
      "outputs": []
    },
    {
      "cell_type": "code",
      "source": [
        "def test_choose_word_with_empty_list():\n",
        "    func_input = []\n",
        "    expected_output = \"Python\"\n",
        "    result = choose_word(func_input)\n",
        "    assert result == expected_output\n",
        "\n",
        "\n",
        "def test_choose_word_with_only_one_word():\n",
        "    func_input = [\"Rust\"]\n",
        "    expected_output = \"Rust\"\n",
        "    result = choose_word(func_input)\n",
        "    assert result == expected_output\n",
        "\n",
        "def test_choose_word_with_multiple_words():\n",
        "    func_input = [\"Rust\", \"Python\"]\n",
        "    expected_output = \"Rust\"\n",
        "    result = choose_word(func_input)\n",
        "    assert result == expected_output\n",
        "\n",
        "\n",
        "def test_choose_word_with_newlines():\n",
        "    func_input = [\"Pythonn\"]\n",
        "    expected_output = \"Python\"\n",
        "    result = choose_word(func_input)\n",
        "    assert result == expected_output"
      ],
      "metadata": {
        "id": "OZF7McUsbQte"
      },
      "execution_count": null,
      "outputs": []
    }
  ]
}