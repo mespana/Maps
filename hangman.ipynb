{
  "nbformat": 4,
  "nbformat_minor": 0,
  "metadata": {
    "colab": {
      "provenance": [],
      "authorship_tag": "ABX9TyMSQDUGd2WHZE4FNd/YTFUA",
      "include_colab_link": true
    },
    "kernelspec": {
      "name": "python3",
      "display_name": "Python 3"
    },
    "language_info": {
      "name": "python"
    }
  },
  "cells": [
    {
      "cell_type": "markdown",
      "metadata": {
        "id": "view-in-github",
        "colab_type": "text"
      },
      "source": [
        "<a href=\"https://colab.research.google.com/github/mespana/Maps/blob/master/hangman.ipynb\" target=\"_parent\"><img src=\"https://colab.research.google.com/assets/colab-badge.svg\" alt=\"Open In Colab\"/></a>"
      ]
    },
    {
      "cell_type": "code",
      "execution_count": null,
      "metadata": {
        "id": "EdUG1Dc4PCWg"
      },
      "outputs": [],
      "source": [
        "# REQUIREMENTS\n",
        "# Liste von Buchstaben\n",
        "# Anzahl an Buchstaben\n",
        "# Datei mit möglichen Wörtern\n",
        "import random\n",
        "\n",
        "def get_wordlist_from_file():\n",
        "    with open(\"words.txt\",\"rt\", encoding=\"utf-8\") as file:\n",
        "        #word_list = file.readlines()\n",
        "        return file.readlines()\n",
        "\n",
        "\n",
        "def choose_wordw(words: list[str]) ->str:\n",
        "    \"\"\"Choose a random word from the words list\n",
        "    :param words: list of words\n",
        "    :return: random word from list of words\n",
        "    \"\"\"\n",
        "    word = random.choice(words)\n",
        "    return word.strip()\n",
        "\n",
        "\n",
        "\n",
        "\n",
        "if __name__ == \"__main__\":\n",
        "\n",
        "\n"
      ]
    },
    {
      "cell_type": "markdown",
      "source": [],
      "metadata": {
        "id": "WJ8KEjI2YH--"
      }
    },
    {
      "cell_type": "code",
      "source": [],
      "metadata": {
        "id": "MJGhtU--YIsf"
      },
      "execution_count": null,
      "outputs": []
    }
  ]
}